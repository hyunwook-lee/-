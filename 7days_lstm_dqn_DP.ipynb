{
  "nbformat": 4,
  "nbformat_minor": 0,
  "metadata": {
    "colab": {
      "name": "7days_lstm_dqn_DP.ipynb",
      "provenance": [],
      "collapsed_sections": [],
      "include_colab_link": true
    },
    "kernelspec": {
      "display_name": "Python 3",
      "language": "python",
      "name": "python3"
    },
    "language_info": {
      "codemirror_mode": {
        "name": "ipython",
        "version": 3
      },
      "file_extension": ".py",
      "mimetype": "text/x-python",
      "name": "python",
      "nbconvert_exporter": "python",
      "pygments_lexer": "ipython3",
      "version": "3.7.1"
    }
  },
  "cells": [
    {
      "cell_type": "markdown",
      "metadata": {
        "id": "view-in-github",
        "colab_type": "text"
      },
      "source": [
        "<a href=\"https://colab.research.google.com/github/hyunwook-lee/-/blob/master/7days_lstm_dqn_DP.ipynb\" target=\"_parent\"><img src=\"https://colab.research.google.com/assets/colab-badge.svg\" alt=\"Open In Colab\"/></a>"
      ]
    },
    {
      "cell_type": "code",
      "metadata": {
        "id": "t6rrcP_-Wb-N"
      },
      "source": [
        "import pandas as pd\n",
        "import numpy as np\n",
        "import matplotlib as mpl\n",
        "import matplotlib.pyplot as plt\n",
        "import seaborn as sns\n",
        "import datetime\n",
        "import tensorflow as tf\n",
        "from google.colab import drive\n",
        "from sklearn.model_selection import train_test_split\n",
        "from keras.models import Sequential\n",
        "from keras.layers import Dense\n",
        "from keras.callbacks import EarlyStopping, ModelCheckpoint\n",
        "from keras.layers import LSTM\n",
        "from tensorflow.keras import layers\n",
        "from sklearn import preprocessing\n",
        "\n",
        "import os\n",
        "\n",
        "\n",
        "# 노트북 안에 그래프를 그리기 위해\n",
        "%matplotlib inline\n",
        "\n",
        "# 그래프에서 마이너스 폰트 깨지는 문제에 대한 대처\n",
        "mpl.rcParams['axes.unicode_minus'] = False"
      ],
      "execution_count": null,
      "outputs": []
    },
    {
      "cell_type": "code",
      "metadata": {
        "colab": {
          "base_uri": "https://localhost:8080/"
        },
        "id": "cAtXLvZDDwlF",
        "outputId": "5e26abec-aa9a-4a05-b358-7f325279bf4b"
      },
      "source": [
        "from google.colab import drive\n",
        "drive.mount('/content/drive')"
      ],
      "execution_count": null,
      "outputs": [
        {
          "output_type": "stream",
          "name": "stdout",
          "text": [
            "Drive already mounted at /content/drive; to attempt to forcibly remount, call drive.mount(\"/content/drive\", force_remount=True).\n"
          ]
        }
      ]
    },
    {
      "cell_type": "markdown",
      "metadata": {
        "id": "Mql-XUPdbst2"
      },
      "source": [
        "##데이터 입력\n"
      ]
    },
    {
      "cell_type": "code",
      "metadata": {
        "colab": {
          "base_uri": "https://localhost:8080/"
        },
        "id": "bCEJ7wOTWb-Y",
        "outputId": "bb75fe8e-98b2-4554-c0ae-956f225bb9d2"
      },
      "source": [
        "drive.mount('/content/drive')\n",
        "df = pd.read_csv('/content/drive/My Drive/Colab_data/df_dropna_3456.csv') \n",
        "\n",
        "print(df)"
      ],
      "execution_count": null,
      "outputs": [
        {
          "output_type": "stream",
          "name": "stdout",
          "text": [
            "Drive already mounted at /content/drive; to attempt to forcibly remount, call drive.mount(\"/content/drive\", force_remount=True).\n"
          ]
        },
        {
          "output_type": "stream",
          "name": "stderr",
          "text": [
            "/usr/local/lib/python3.7/dist-packages/IPython/core/interactiveshell.py:2718: DtypeWarning: Columns (2) have mixed types.Specify dtype option on import or set low_memory=False.\n",
            "  interactivity=interactivity, compiler=compiler, result=result)\n"
          ]
        },
        {
          "output_type": "stream",
          "name": "stdout",
          "text": [
            "         Unnamed: 0 CORP_ID  ...         INS_DATETIME          INS-BKG\n",
            "0                 1   KX007  ...  2021-03-03 13:14:25  0 days 09:19:04\n",
            "1                 2   KX007  ...  2021-03-03 13:14:25  0 days 09:19:12\n",
            "2                 3   KX007  ...  2021-03-03 13:14:25  0 days 09:18:17\n",
            "3                 4   KX007  ...  2021-03-03 13:14:25  0 days 09:18:34\n",
            "4                 5   KX007  ...  2021-03-03 13:14:25  0 days 09:18:34\n",
            "...             ...     ...  ...                  ...              ...\n",
            "1585519     1786343   KX007  ...  2021-07-02 10:14:25  1 days 21:54:24\n",
            "1585520     1786347   KX007  ...  2021-07-02 12:22:03  2 days 23:53:51\n",
            "1585521     1786348   KX007  ...  2021-07-03 22:01:52  3 days 21:58:56\n",
            "1585522     1786349   KX007  ...  2021-07-04 05:50:47  3 days 15:19:29\n",
            "1585523     1786354   KX007  ...  2021-07-03 00:14:24  3 days 01:39:21\n",
            "\n",
            "[1585524 rows x 41 columns]\n"
          ]
        }
      ]
    },
    {
      "cell_type": "code",
      "metadata": {
        "id": "5WHjo6PzWb-a"
      },
      "source": [
        "df_dropna = df\n",
        "df_dropna[\"INS_DATETIME\"] = pd.to_datetime(df_dropna[\"INS_DATETIME\"])\n",
        "df_dropna[\"BKG_DATETIME\"] = pd.to_datetime(df_dropna[\"BKG_DATETIME\"])\n",
        "\n",
        "df_dropna[\"INS-BKG\"] = df_dropna[\"INS_DATETIME\"] - df_dropna[\"BKG_DATETIME\"]\n",
        "df_dropna[\"INS-BKG\"].dtype\n",
        "\n",
        "df_dropna['secs']=df_dropna['INS-BKG'].dt.total_seconds()"
      ],
      "execution_count": null,
      "outputs": []
    },
    {
      "cell_type": "code",
      "metadata": {
        "colab": {
          "base_uri": "https://localhost:8080/"
        },
        "id": "_Y39L_CMWb-c",
        "outputId": "1e67ac5b-106f-4f33-97c2-eb3e254fa171"
      },
      "source": [
        "df_dropna[\"SHPR_CD\"] = df_dropna[\"SHPR_CD\"].astype(str)\n",
        "df_dropna[\"SHPR_CD\"].value_counts()\n",
        "data_df = pd.DataFrame(data = {'쇼핑몰 수': [2], '아이템 합' : [3], 'Count': [4]})\n",
        "\n",
        "#예측에서 사용할 인자 추출\n",
        "def makeDataToTimeseries(df):\n",
        "    timeseries_df = pd.DataFrame()\n",
        "    timeseries_df['Date'] = df.BKG_DATE.unique()\n",
        "    timeseries_df['Date'] = timeseries_df['Date']\n",
        "    print(timeseries_df)\n",
        "    timeseries_df['ItmeCount'] = timeseries_df.Date.map(lambda x: len(df.query(f' BKG_DATE == \"{x}\"').ITEM_CD.unique()))\n",
        "    print(timeseries_df)\n",
        "    timeseries_df['MallCount'] = timeseries_df.Date.map(lambda x: len(df.query(f' BKG_DATE == \"{x}\"').SHPR_CD.unique()))\n",
        "    print(timeseries_df)\n",
        "    timeseries_df['TotalCount'] = timeseries_df.Date.map(lambda x: df.query(f' BKG_DATE == \"{x}\"').shape[0])\n",
        "    print(timeseries_df)\n",
        "    timeseries_df['Total_Sconds'] = timeseries_df.Date.map(lambda x: sum(df.query(f' BKG_DATE == \"{x}\"').secs))\n",
        "    print(timeseries_df)\n",
        "\n",
        "    return timeseries_df\n",
        "\n",
        "timedf = makeDataToTimeseries(df_dropna)\n",
        "print(timedf)\n"
      ],
      "execution_count": null,
      "outputs": [
        {
          "output_type": "stream",
          "name": "stdout",
          "text": [
            "                    Date\n",
            "0    2021-03-03 00:00:00\n",
            "1    2021-03-01 00:00:00\n",
            "2    2021-03-02 00:00:00\n",
            "3    2021-03-04 00:00:00\n",
            "4    2021-03-05 00:00:00\n",
            "..                   ...\n",
            "117  2021-06-24 00:00:00\n",
            "118  2021-06-26 00:00:00\n",
            "119  2021-06-27 00:00:00\n",
            "120  2021-06-25 00:00:00\n",
            "121  2021-06-30 00:00:00\n",
            "\n",
            "[122 rows x 1 columns]\n",
            "                    Date  ItmeCount\n",
            "0    2021-03-03 00:00:00       1746\n",
            "1    2021-03-01 00:00:00       1620\n",
            "2    2021-03-02 00:00:00       1697\n",
            "3    2021-03-04 00:00:00       1570\n",
            "4    2021-03-05 00:00:00       1318\n",
            "..                   ...        ...\n",
            "117  2021-06-24 00:00:00       3303\n",
            "118  2021-06-26 00:00:00       3005\n",
            "119  2021-06-27 00:00:00       3659\n",
            "120  2021-06-25 00:00:00       3214\n",
            "121  2021-06-30 00:00:00       3553\n",
            "\n",
            "[122 rows x 2 columns]\n",
            "                    Date  ItmeCount  MallCount\n",
            "0    2021-03-03 00:00:00       1746          8\n",
            "1    2021-03-01 00:00:00       1620          8\n",
            "2    2021-03-02 00:00:00       1697          8\n",
            "3    2021-03-04 00:00:00       1570          8\n",
            "4    2021-03-05 00:00:00       1318          8\n",
            "..                   ...        ...        ...\n",
            "117  2021-06-24 00:00:00       3303         18\n",
            "118  2021-06-26 00:00:00       3005         18\n",
            "119  2021-06-27 00:00:00       3659         18\n",
            "120  2021-06-25 00:00:00       3214         18\n",
            "121  2021-06-30 00:00:00       3553         19\n",
            "\n",
            "[122 rows x 3 columns]\n",
            "                    Date  ItmeCount  MallCount  TotalCount\n",
            "0    2021-03-03 00:00:00       1746          8       12825\n",
            "1    2021-03-01 00:00:00       1620          8        7893\n",
            "2    2021-03-02 00:00:00       1697          8       10996\n",
            "3    2021-03-04 00:00:00       1570          8        9510\n",
            "4    2021-03-05 00:00:00       1318          8       12225\n",
            "..                   ...        ...        ...         ...\n",
            "117  2021-06-24 00:00:00       3303         18       14531\n",
            "118  2021-06-26 00:00:00       3005         18       14204\n",
            "119  2021-06-27 00:00:00       3659         18       17810\n",
            "120  2021-06-25 00:00:00       3214         18       15425\n",
            "121  2021-06-30 00:00:00       3553         19       16757\n",
            "\n",
            "[122 rows x 4 columns]\n",
            "                    Date  ItmeCount  MallCount  TotalCount  Total_Sconds\n",
            "0    2021-03-03 00:00:00       1746          8       12825   426622824.0\n",
            "1    2021-03-01 00:00:00       1620          8        7893   262044355.0\n",
            "2    2021-03-02 00:00:00       1697          8       10996   368102356.0\n",
            "3    2021-03-04 00:00:00       1570          8        9510   315867482.0\n",
            "4    2021-03-05 00:00:00       1318          8       12225   406226818.0\n",
            "..                   ...        ...        ...         ...           ...\n",
            "117  2021-06-24 00:00:00       3303         18       14531   482349299.0\n",
            "118  2021-06-26 00:00:00       3005         18       14204   472242739.0\n",
            "119  2021-06-27 00:00:00       3659         18       17810   591841810.0\n",
            "120  2021-06-25 00:00:00       3214         18       15425   513794488.0\n",
            "121  2021-06-30 00:00:00       3553         19       16757    32792126.0\n",
            "\n",
            "[122 rows x 5 columns]\n",
            "                    Date  ItmeCount  MallCount  TotalCount  Total_Sconds\n",
            "0    2021-03-03 00:00:00       1746          8       12825   426622824.0\n",
            "1    2021-03-01 00:00:00       1620          8        7893   262044355.0\n",
            "2    2021-03-02 00:00:00       1697          8       10996   368102356.0\n",
            "3    2021-03-04 00:00:00       1570          8        9510   315867482.0\n",
            "4    2021-03-05 00:00:00       1318          8       12225   406226818.0\n",
            "..                   ...        ...        ...         ...           ...\n",
            "117  2021-06-24 00:00:00       3303         18       14531   482349299.0\n",
            "118  2021-06-26 00:00:00       3005         18       14204   472242739.0\n",
            "119  2021-06-27 00:00:00       3659         18       17810   591841810.0\n",
            "120  2021-06-25 00:00:00       3214         18       15425   513794488.0\n",
            "121  2021-06-30 00:00:00       3553         19       16757    32792126.0\n",
            "\n",
            "[122 rows x 5 columns]\n"
          ]
        }
      ]
    },
    {
      "cell_type": "code",
      "metadata": {
        "id": "kc1p29zjUwZy"
      },
      "source": [
        "#Date 추가 로직\n",
        "timedf[\"Date\"] = pd.to_datetime(timedf.Date)\n",
        "timedf.sort_values(by='Date', inplace=True)\n",
        "timedf\n",
        "\n",
        "total_count_list = list(timedf[\"ItmeCount\"])\n",
        "for x in range(len(total_count_list)-1):\n",
        "    if x != len(total_count_list)-1:\n",
        "        total_count_list[x] = total_count_list[x+1] - total_count_list[x]\n",
        "    else:\n",
        "        total_count_list[x+1] = 0\n",
        "for x in range(len(total_count_list)):\n",
        "    if x == 0:\n",
        "        total_count_list.pop()\n",
        "        total_count_list.insert(0,0)\n",
        "df = pd.DataFrame({\"item_count_dif\" : total_count_list})\n",
        "\n",
        "timedf.insert(2,\"item_count_dif\",df)\n",
        "timedf"
      ],
      "execution_count": null,
      "outputs": []
    },
    {
      "cell_type": "code",
      "metadata": {
        "id": "EXo5_xyYS_UT"
      },
      "source": [
        "# 정규화\n",
        "scaler = preprocessing.MinMaxScaler()\n",
        "# scaler_fit = scaler.fit()\n",
        "#, ,'ItmeCount', 'MallCount', 'item_count_dif'\n",
        "scale_cols = ['TotalCount']\n",
        "df_scaled = scaler.fit_transform(timedf[scale_cols])\n",
        "\n",
        "\n",
        "scaled = scaler.fit_transform(timedf[['TotalCount']])\n",
        "\n",
        "df_scaled = pd.DataFrame(df_scaled)\n",
        "df_scaled.columns = scale_cols\n",
        "\n",
        "df_scaled"
      ],
      "execution_count": null,
      "outputs": []
    },
    {
      "cell_type": "code",
      "metadata": {
        "id": "6Qzy2yj2Wb-e"
      },
      "source": [
        "# 7일 예측 로직\n",
        "\n",
        "TEST_SIZE = 60\n",
        "train = df_scaled[:-TEST_SIZE].astype(float)\n",
        "test = df_scaled[-TEST_SIZE:].astype(float)\n",
        "\n",
        "def make_train_dataset(data, label, window_size=7):\n",
        "    feature_list = []\n",
        "    label_list = []\n",
        "    for i in range(0,len(data) - (window_size*2), 7):\n",
        "        feature_list.append(np.array(data.iloc[i:i+window_size]))\n",
        "        label_list.append(np.array(label.iloc[i+window_size:i+window_size+window_size]))\n",
        "    return np.array(feature_list), np.array(label_list)\n",
        "def make_test_dataset(data, label, window_size=7):\n",
        "    feature_list = []\n",
        "    label_list = []\n",
        "    for i in range(0,len(data) - (window_size*2)):\n",
        "        feature_list.append(np.array(data.iloc[i:i+window_size]))\n",
        "        label_list.append(np.array(label.iloc[i+window_size:i+window_size+window_size]))\n",
        "    return np.array(feature_list), np.array(label_list)\n",
        "\n",
        "#TotalCount로만 예측\n",
        "feature_cols = ['TotalCount']\n",
        "label_cols = ['TotalCount']\n",
        "\n",
        "train_feature = train[feature_cols]\n",
        "train_label = train[label_cols]\n",
        "\n",
        "test_feature, test_label = test[feature_cols], test[label_cols]\n",
        "\n",
        "# train dataset\n",
        "train_feature, train_label = make_train_dataset(train_feature, train_label)\n",
        "\n",
        "print(train_feature)\n",
        "# train set 생성\n",
        "# x_train, x_valid, y_train, y_valid = train_test_split(train_feature, train_label, test_size=0.2)\n",
        "# print(x_train)\n",
        "x_train = train_feature\n",
        "y_train = train_label\n",
        "# test dataset (실제 예측 해볼 데이터)\n",
        "test_feature, test_label = make_test_dataset(test_feature, test_label)\n",
        "test_feature.shape, test_label.shape\n"
      ],
      "execution_count": null,
      "outputs": []
    },
    {
      "cell_type": "code",
      "metadata": {
        "colab": {
          "base_uri": "https://localhost:8080/",
          "height": 702
        },
        "id": "eWdWgJw7FjGo",
        "outputId": "a300c159-53ee-4a12-f508-f53f1707ce71"
      },
      "source": [
        "#모델 생성\n",
        "model = Sequential()\n",
        "model.add(LSTM(units = 50, \n",
        "               input_shape=(train_feature.shape[1], train_feature.shape[2]), \n",
        "               activation='tanh', return_sequences = True,\n",
        "               )\n",
        "          )\n",
        "model.add(LSTM(units = 50, activation = 'tanh'))\n",
        "# model.add(Dense(32))\n",
        "model.add(Dense(7))\n",
        "model.summary()\n",
        "\n",
        "from IPython.display import SVG\n",
        "from keras.utils.vis_utils import model_to_dot\n",
        "from tensorflow.keras.utils import plot_model\n",
        "\n",
        "%matplotlib inline\n",
        "\n",
        "plt.figure(figsize=(4,1))\n",
        "SVG(model_to_dot(model, show_shapes=True).create(prog='dot', format='svg'))\n",
        "\n",
        "plot_model(model, to_file='model.png')\n",
        "plot_model(model, to_file='model_shapes.png', show_shapes=True)"
      ],
      "execution_count": null,
      "outputs": [
        {
          "output_type": "stream",
          "name": "stdout",
          "text": [
            "Model: \"sequential\"\n",
            "_________________________________________________________________\n",
            "Layer (type)                 Output Shape              Param #   \n",
            "=================================================================\n",
            "lstm (LSTM)                  (None, 7, 50)             10400     \n",
            "_________________________________________________________________\n",
            "lstm_1 (LSTM)                (None, 50)                20200     \n",
            "_________________________________________________________________\n",
            "dense (Dense)                (None, 7)                 357       \n",
            "=================================================================\n",
            "Total params: 30,957\n",
            "Trainable params: 30,957\n",
            "Non-trainable params: 0\n",
            "_________________________________________________________________\n"
          ]
        },
        {
          "output_type": "execute_result",
          "data": {
            "image/png": "[encoded data removed]",
            "text/plain": [
              "<IPython.core.display.Image object>"
            ]
          },
          "metadata": {},
          "execution_count": 13
        },
        {
          "output_type": "display_data",
          "data": {
            "text/plain": [
              "<Figure size 288x72 with 0 Axes>"
            ]
          },
          "metadata": {}
        }
      ]
    },
    {
      "cell_type": "code",
      "metadata": {
        "id": "KqHCpf2oXUAv"
      },
      "source": [
        "#모델 compile\n",
        "model.compile(loss='mean_squared_error', optimizer='adam')\n",
        "early_stop = EarlyStopping(monitor='loss', patience=80)\n",
        "filename = os.path.join(\"/a/b/c\", 'tmp_checkpoint.h5')\n",
        "history = model.fit(x_train, y_train, epochs=3000,batch_size=1)"
      ],
      "execution_count": null,
      "outputs": []
    },
    {
      "cell_type": "code",
      "metadata": {
        "id": "zoWTjXjTsvIy"
      },
      "source": [
        "pred = model.predict(test_feature)\n",
        "#pred 전처리 7개 예측을 Graph로 확인하기 위함\n",
        "pred_graph = []\n",
        "for x in range(len(pred)):\n",
        "    if x == len(pred) -1:\n",
        "        for i in range(7):\n",
        "            pred_graph.append(pred[x][i])\n",
        "    pred_graph.append(pred[x][1])\n",
        "for x in range(len(pred_graph)):\n",
        "    if pred_graph[x] > 1:\n",
        "        pred_graph[x] = 1\n",
        "    elif pred_graph[x] < 0:\n",
        "        pred_graph[x] = 0\n"
      ],
      "execution_count": null,
      "outputs": []
    },
    {
      "cell_type": "code",
      "metadata": {
        "id": "Jwd3wlrBYzKS"
      },
      "source": [
        "#그래프로 확인후 정규화 -> 역규화를 통한 7일 가격 예측 q_0로 사용될 값\n",
        "plt.figure(figsize=(12, 9))\n",
        "pred_inverse = scaler.inverse_transform(np.array(pred).reshape(-1,1))\n",
        "b = test_label\n",
        "actual_graph = []\n",
        "for x in range(len(b)):\n",
        "    actual_graph.append(b[x][0])\n",
        "\n",
        "plt.plot(actual_graph, label='actual')\n",
        "plt.plot(pred_graph, label='prediction')\n",
        "plt.xlabel(\"time\")\n",
        "plt.legend()\n",
        "plt.show()\n",
        "prediction_7days = pred_inverse[-7:]\n",
        "prediction_7days = list(prediction_7days.reshape(-1))\n",
        "print(prediction_7days)\n",
        "prediction_7days = [17301.336, 22815.393, 10638.449, 4188.1777, 11066.61, 14206.219, 8009.828]\n",
        "for x in range(len(prediction_7days)):\n",
        "    prediction_7days[x] = int(prediction_7days[x])"
      ],
      "execution_count": null,
      "outputs": []
    },
    {
      "cell_type": "markdown",
      "metadata": {
        "id": "3IiyoRhuPp7k"
      },
      "source": [
        "# DQN"
      ]
    },
    {
      "cell_type": "code",
      "metadata": {
        "id": "o8UPCPMWKcZL"
      },
      "source": [
        "import math \n",
        "import numpy as np\n",
        "import matplotlib.pyplot as plt\n",
        "import seaborn as sns\n",
        "plt.style.use('seaborn-white')\n",
        "import pandas as pd\n",
        "from matplotlib import animation, rc\n",
        "plt.rcParams.update({'pdf.fonttype': 'truetype'})\n",
        "\n",
        "from bokeh.io import show, output_notebook\n",
        "from bokeh.palettes import PuBu4\n",
        "from bokeh.plotting import figure\n",
        "from bokeh.models import Label\n",
        "\n",
        "import math\n",
        "import random\n",
        "import numpy as np\n",
        "from IPython.display import clear_output\n",
        "import matplotlib\n",
        "import matplotlib.pyplot as plt\n",
        "from collections import namedtuple\n",
        "from itertools import count\n",
        "import torch.nn.functional as F\n",
        "\n",
        "import torch\n",
        "import torch.nn as nn\n",
        "import torch.optim as optim\n",
        "\n",
        "# from qbstyles import mpl_style\n",
        "# mpl_style(dark=False)"
      ],
      "execution_count": null,
      "outputs": []
    },
    {
      "cell_type": "code",
      "metadata": {
        "id": "S9Z7IpJdKcSS"
      },
      "source": [
        "## Environment simulator\n",
        "result_demand = []\n",
        "def plus(x):\n",
        "    return 0 if x < 0 else x\n",
        "def minus(x):\n",
        "    return 0 if x > 0 else -x\n",
        "def shock(x): #(충격함수는 가격 변화에 따른 수요영향력)\n",
        "    return np.sqrt(x) \n",
        "#변화 수요량\n",
        "def q_t(p_t, p_t_1, q_0, k, a, b, q_setting, count=0):\n",
        "    d_1 = plus(q_0[q_setting] - a*shock(plus(p_t - p_t_1)) + b*shock(minus(p_t - p_t_1)))\n",
        "    #demand의 최대,최소 범위 설정\n",
        "    if d_1 + 2000 < min(q_0):\n",
        "        d_1 = q_0[q_setting] - min(q_0)\n",
        "    elif  d_1 > max(q_0) + 2000:\n",
        "        d_1 = q_0[q_setting] + min(q_0)\n",
        "    if count == 1:\n",
        "        #결과demand를 확인하기 위한 값\n",
        "        result_demand.append(d_1)\n",
        "    return  d_1\n",
        "# t시점 이익\n",
        "def profit_t(p_t, p_t_1, q_0, k, a, b, unit_cost, q_setting, count=0):\n",
        "    return q_t(p_t, p_t_1, q_0, k, a, b, q_setting, count)*(p_t - unit_cost) #q_t(,,,) 이거는 demand임. #(p_t - unit_cost)는 순이익임(가격-유닛당 비용) 즉, 리턴값(profit) = 수요 * 순이익\n",
        "# 이익의 총합\n",
        "def profit_total(p, unit_cost, q_0, k, a, b, count=0):\n",
        "    return profit_t(p[0], p[0], q_0, k, 0, 0, unit_cost, 0, count) + sum(map(lambda t: profit_t(p[t], p[t-1], q_0, k, a, b, unit_cost, t, count), range(len(p))))\n",
        "\n",
        "def demand_check(demand):\n",
        "    if demand + 2000 < min(q_0):\n",
        "        return  min(q_0)\n",
        "    elif demand > max(q_0) + 5000:\n",
        "        return max(q_0)\n",
        "\n",
        "## Environment parameters\n",
        "T = 7\n",
        "price_max = 2501\n",
        "price_step = 100\n",
        "#q_0 = prediction_7days -> 예측한 7일의 수요\n",
        "k = 1\n",
        "q_0 = prediction_7days\n",
        "p_minus = 2000\n",
        "unit_cost = 1000\n",
        "a_q = 800\n",
        "b_q = 800\n",
        "count = 0\n",
        "\n",
        "## Partial bindings for readability\n",
        "def profit_t_response(p_t, p_t_1):\n",
        "    return profit_t(p_t, p_t_1, q_0, k, a_q, b_q, unit_cost, 0) #택배 도메인에 맞춰서 들어가야 하는 상수.\n",
        "\n",
        "def profit_response(p, count=0):\n",
        "    return profit_total(p, unit_cost, q_0, k, a_q, b_q, count)\n",
        "\n",
        "def profit_response_result(p, count):\n",
        "    count += 1\n",
        "    print(count)\n",
        "    return profit_total(p, unit_cost, q_0, k, a_q, b_q, count)\n",
        "\n",
        "def profit_response_dqn(p_t, p_t_1, t):\n",
        "    return profit_t(p_t, p_t_1, q_0, k, a_q, b_q, unit_cost, t)\n",
        "\n",
        "## Visualize price-demand functions\n",
        "price_grid = np.arange(1500, price_max, price_step) ## price_step: 최소가격, 뒤 price_step: 가격 간격\n",
        "price_change_grid = np.arange(0.5, 2.0, 0.1) ## [0.5, 0.6, 0.7 ,,, 1.9]\n",
        "profit_map = np.zeros( (len(price_grid), len(price_change_grid)) ) #행 : price_gird 개수, 열 : price_change_grid 개수\n",
        "\n",
        "for i in range(len(price_grid)):\n",
        "    for j in range(len(price_change_grid)):\n",
        "        profit_map[i,j] = profit_t_response(price_grid[i], price_grid[i]*price_change_grid[j]) #(t시간에 가격, 가격변화량)\n",
        "## 즉, 위의 반복문으로 profti_map 매트릭스에는 행에 가격, 열에 변화량을 축으로 밸류값으로는 수요 * 순이익이 들어감"
      ],
      "execution_count": null,
      "outputs": []
    },
    {
      "cell_type": "code",
      "metadata": {
        "id": "tp1PWGTdWb-m",
        "colab": {
          "base_uri": "https://localhost:8080/"
        },
        "outputId": "17faf608-59cd-48d2-bb92-2d7135b9b2f7"
      },
      "source": [
        "# Find optimal constant price\n",
        "profits = np.array([ profit_response(np.repeat(p, T)) for p in price_grid ])\n",
        "p_idx = np.argmax(profits)\n",
        "price_opt_const = price_grid[p_idx]\n",
        "\n",
        "print(f'Optimal price is {price_opt_const}, achieved profit is {profits[p_idx]}')"
      ],
      "execution_count": null,
      "outputs": [
        {
          "output_type": "stream",
          "name": "stdout",
          "text": [
            "Optimal price is 2500, achieved profit is 158286000.0\n"
          ]
        }
      ]
    },
    {
      "cell_type": "code",
      "metadata": {
        "id": "fT4sala6PYPW"
      },
      "source": [
        "# Find optimal sequence of prices using greedy search\n",
        "#그리디 알고리즘\n",
        "def find_optimal_price_t(p_baseline, price_grid, t):\n",
        "    p_grid = np.tile(p_baseline, (len(price_grid), 1))\n",
        "    p_grid[:, t] = price_grid\n",
        "    profit_grid = np.array([ profit_response(p) for p in p_grid ])\n",
        "    return price_grid[ np.argmax(profit_grid) ]\n",
        "\n",
        "p_opt = np.repeat(price_opt_const, T)\n",
        "for t in range(T):\n",
        "    price_t = find_optimal_price_t(p_opt, price_grid, t)\n",
        "    p_opt[t] = price_t\n",
        "\n",
        "print(f'Achieved profit is {profit_response(p_opt)}')\n",
        "\n",
        "\n",
        "plt.figure(figsize=(16, 5))\n",
        "plt.title(\"Greedy Graph\")\n",
        "plt.xlabel(\"Time step\")\n",
        "plt.ylabel(\"Price ($)\")\n",
        "plt.xticks(np.arange(T))\n",
        "plt.plot(np.arange(T), p_opt, c='red')\n",
        "\n"
      ],
      "execution_count": null,
      "outputs": []
    },
    {
      "cell_type": "code",
      "metadata": {
        "id": "hxbQcT2CPYNN"
      },
      "source": [
        "# Visualization functions\n",
        "\n",
        "\n",
        "output_notebook()\n",
        "\n",
        "def plot_return_trace(returns, smoothing_window=10, range_std=2):\n",
        "    plt.figure(figsize=(16, 5))\n",
        "    plt.xlabel(\"Episode\")\n",
        "    plt.ylabel(\"Return ($)\")\n",
        "    returns_df = pd.Series(returns)\n",
        "    ma = returns_df.rolling(window=smoothing_window).mean()\n",
        "    mstd = returns_df.rolling(window=smoothing_window).std()\n",
        "    plt.plot(ma, c = 'blue', alpha = 1.00, linewidth = 1)\n",
        "    plt.fill_between(mstd.index, ma-range_std*mstd, ma+range_std*mstd, color='blue', alpha=0.2)\n",
        "\n",
        "def plot_price_schedules(p_trace, sampling_ratio, last_highlights, fig_number=None):\n",
        "    plt.figure(fig_number);\n",
        "    plt.xlabel(\"Time step\");\n",
        "    plt.ylabel(\"Price (won)\");\n",
        "    plt.xticks(range(T))\n",
        "    plt.plot(range(T), np.array(p_trace[0:-1:sampling_ratio]).T, c = 'k', alpha = 0.05)\n",
        "    return plt.plot(range(T), np.array(p_trace[-(last_highlights+1):-1]).T, c = 'red', alpha = 0.8, linewidth=2.3)\n",
        "\n",
        "def bullet_graph(data, labels=None, bar_label=None, axis_label=None,\n",
        "                size=(5, 3), palette=None, bar_color=\"black\", label_color=\"gray\"):\n",
        "    stack_data = np.stack(data[:,2])\n",
        "\n",
        "    cum_stack_data = np.cumsum(stack_data, axis=1)\n",
        "    h = np.max(cum_stack_data) / 20\n",
        "\n",
        "    fig, axarr = plt.subplots(len(data), figsize=size, sharex=True)\n",
        "\n",
        "    for idx, item in enumerate(data):\n",
        "\n",
        "        if len(data) > 1:\n",
        "            ax = axarr[idx]\n",
        "\n",
        "        ax.set_aspect('equal')\n",
        "        ax.set_yticklabels([item[0]])\n",
        "        ax.set_yticks([1])\n",
        "        ax.spines['bottom'].set_visible(False)\n",
        "        ax.spines['top'].set_visible(False)\n",
        "        ax.spines['right'].set_visible(False)\n",
        "        ax.spines['left'].set_visible(False)\n",
        "\n",
        "        prev_limit = 0\n",
        "        for idx2, lim in enumerate(cum_stack_data[idx]):\n",
        "            ax.barh([1], lim - prev_limit, left=prev_limit, height=h, color=palette[idx2])\n",
        "            prev_limit = lim\n",
        "        rects = ax.patches\n",
        "        ax.barh([1], item[1], height=(h / 3), color=bar_color)\n",
        "\n",
        "    if labels is not None:\n",
        "        for rect, label in zip(rects, labels):\n",
        "            height = rect.get_height()\n",
        "            ax.text(\n",
        "                rect.get_x() + rect.get_width() / 2,\n",
        "                -height * .4,\n",
        "                label,\n",
        "                ha='center',\n",
        "                va='bottom',\n",
        "                color=label_color)\n",
        "            \n",
        "    if bar_label is not None:\n",
        "        rect = rects[0]\n",
        "        height = rect.get_height()\n",
        "        ax.text(\n",
        "            rect.get_x() + rect.get_width(),\n",
        "            -height * .1,\n",
        "            bar_label,\n",
        "            ha='center',\n",
        "            va='bottom',\n",
        "            color='white')\n",
        "    if axis_label:\n",
        "        ax.set_xlabel(axis_label)\n",
        "    fig.subplots_adjust(hspace=0)"
      ],
      "execution_count": null,
      "outputs": []
    },
    {
      "cell_type": "code",
      "metadata": {
        "id": "4DicIMGaPYK9"
      },
      "source": [
        "device = torch.device(\"cuda\" if torch.cuda.is_available() else \"cpu\")\n",
        "\n",
        "Transition = namedtuple('Transition', ('state', 'action', 'next_state', 'reward'))\n",
        "\n",
        "# A cyclic buffer of bounded size that holds the transitions observed recently\n",
        "# tansition을 저장하기 위한 메모리 클래스\n",
        "# 각 단계에서의 transition을 저장하는 push method와 무작위로 선택된 transition을 꺼내오는 sample method를 가지고 있다. \n",
        "# 이 클래스는 저장된 transition의 개수가 capa를 초과하면 오래된 것 부터 지우고 지워진 transition 인덱스를 새로운 transition에 부여\n",
        "\n",
        "class ReplayMemory(object):\n",
        "    def __init__(self, capacity):\n",
        "        self.capacity = capacity # 메모리 최대 저장 건 수\n",
        "        self.memory = [] # 실제 trnsition을 저장할 변수\n",
        "        self.position = 0 # 저장 위치를 가리킬 인덱스 변수\n",
        "\n",
        "    def push(self, *args):\n",
        "        # transition = (state, action, state_next, reward)을 메모리에 저장\n",
        "\n",
        "        if len(self.memory) < self.capacity:\n",
        "            self.memory.append(None) # 메모리가 차지 않았을 경우\n",
        "\n",
        "        # Transition이라는 namedtuple을 사용해 키-값 쌍 형태의 값을 저장\n",
        "        self.memory[self.position] = Transition(*args)\n",
        "\n",
        "        self.position = (self.position + 1) % self.capacity # 다음 저장할 위치를 한자리 뒤로 수정\n",
        "\n",
        "    def sample(self, batch_size):\n",
        "        # batch_size의 개수 만큼 무작위로 저장된 transition을 추출\n",
        "        return random.sample(self.memory, batch_size)\n",
        "\n",
        "    def __len__(self):\n",
        "        return len(self.memory)\n",
        "\n",
        "\n",
        "class PolicyNetworkDQN(nn.Module):\n",
        "    def __init__(self, state_size, action_size, hidden_size=128):\n",
        "        super(PolicyNetworkDQN, self).__init__()\n",
        "        layers = [\n",
        "              nn.Linear(state_size, hidden_size),\n",
        "              nn.ReLU(),\n",
        "              nn.Linear(hidden_size, hidden_size),\n",
        "              nn.ReLU(),\n",
        "              nn.Linear(hidden_size, hidden_size),\n",
        "              nn.ReLU(),\n",
        "              nn.Linear(hidden_size, action_size)\n",
        "        ]\n",
        "        self.model = nn.Sequential(*layers)\n",
        "\n",
        "    def forward(self, x):\n",
        "        q_values = self.model(x)\n",
        "        return q_values  \n",
        "\n",
        "\n",
        "# 행동 결정 class\n",
        "# 상태에 따라 행동을 결정한다. \n",
        "class AnnealedEpsGreedyPolicy(object):\n",
        "    def __init__(self, eps_start = 0.9, eps_end = 0.05, eps_decay = 400):\n",
        "        self.eps_start = eps_start\n",
        "        self.eps_end = eps_end\n",
        "        self.eps_decay = eps_decay\n",
        "        self.steps_done = 0\n",
        "\n",
        "    def select_action(self, q_values):\n",
        "        sample = random.random()\n",
        "        # e-greedy 알고리즘에서 서서히 최적행동의 비중을 늘린다\n",
        "        eps_threshold = self.eps_end + (self.eps_start - self.eps_end) * math.exp(-1. * self.steps_done / self.eps_decay)\n",
        "        self.steps_done += 1\n",
        "        # 신경망 출력의 최댓값의 인덱스 출력\n",
        "        if sample > eps_threshold:\n",
        "            return np.argmax(q_values)\n",
        "        # 무작위 출력\n",
        "        else:\n",
        "            return random.randrange(len(q_values))\n",
        "\n",
        "\n",
        "# 상수 정의\n",
        "# GAMMA : 시간 할인율\n",
        "# TARGET_UPDATE : 1 에피소드당 최대 단계 수\n",
        "# BATCH_SIZE : 배치 사이즈\n",
        "\n",
        "GAMMA = 1.00\n",
        "TARGET_UPDATE = 20\n",
        "BATCH_SIZE = 512\n",
        "\n",
        "def update_model(memory, policy_net, target_net):\n",
        "    # Experience Replay로 신경망의 결합 가중치 학습\n",
        "    # - 저장된 tansition의 수를 확인\n",
        "    # - 미니배치 생성\n",
        "    # - 정답신호로 사용할 Q(s_t, a_t) 계산\n",
        "    # - 결합 가중치 수젇\n",
        "\n",
        "    # --------------\n",
        "    # 1. 저장된 tansition의 수 확인\n",
        "    # 1.1 저장된 tansiton의 수가 미니 배치 크기 보다 작으면 아무것도 하지 않음\n",
        "    if len(memory) < BATCH_SIZE:\n",
        "        return\n",
        "    # --------------\n",
        "    # 2. 미니배치 생성\n",
        "    # 2.1 메모리 객체에서 미니배치를 추출\n",
        "    transitions = memory.sample(BATCH_SIZE)\n",
        "\n",
        "    # 2.2 각 변수를 미니배치에 맞는 형태로 변형\n",
        "    # transition은 각 단계 별로 (state, action, state_next, reward) 형태로 Batch 개수 만큼 저장됨\n",
        "    # (state *Batch_Size, action *Batch_Size, state_next *Batch_Size, reward *Batch_Size) 형태로 변환\n",
        "    batch = Transition(*zip(*transitions))\n",
        "\n",
        "    # 2.3 next_state 존재 여부를 확인 가능하게 하는 인덱스 구성\n",
        "    non_final_mask = torch.tensor(tuple(map(lambda s: s is not None, batch.next_state)), device=device, dtype=torch.bool)\n",
        "    \n",
        "    #2.4 상태, 행동, 보상. none_finael 상태로 된 미니 배치를 torch에서 Linear 에 들어갈 수 있게 Variable 처리\n",
        "    non_final_next_states = torch.stack([s for s in batch.next_state if s is not None])\n",
        "\n",
        "    state_batch = torch.stack(batch.state)\n",
        "    action_batch = torch.cat(batch.action)\n",
        "    reward_batch = torch.stack(batch.reward)\n",
        "\n",
        "    # --------------\n",
        "    # 3. 정답신호로 사용할 Q(s_t, s_t)를 계산\n",
        "    # 3.1 신경망으로 Q(s_t, s_t)를 계산\n",
        "    #      policy_net은 가격결정에 대한 Q 값을 출력하며\n",
        "    #      [toch.FloatTensor of size Batch_size * 2] 형태이다. \n",
        "    #      여기서 실행한 행동 a_t 에 대한 Q 값을 계산하므로 action_batch에서 취한 행동에 대한 인덱스를 구하고, 이에 대한 Q 값을 gather 메서드로 모아온다.\n",
        "\n",
        "    state_action_values = policy_net(state_batch).gather(1, action_batch)\n",
        "    #   다음 상태가 있는 인덱스에 대한 최대 Q값을 구한다. \n",
        "    #   출력에 접근해서 열방향 최댓값(max(1))이 되는 [값, 인덱스]를 구한다\n",
        "    #   그리고 이 Q 값을 출력한 다음 detach로 이 값을 가져온다\n",
        "    next_state_values = torch.zeros(BATCH_SIZE, device=device)\n",
        "    next_state_values[non_final_mask] = target_net(non_final_next_states).max(1)[0].detach()\n",
        "\n",
        "    # Compute the expected Q values\n",
        "    # 3.4 정답신호로 사용할 Q(s_t, a_t)를 Q 러닝 식으로 계산한다.\n",
        "    expected_state_action_values = reward_batch[:, 0] + (GAMMA * next_state_values)  \n",
        "\n",
        "    # expected_state_action_values = expected_state_action_values.unsqueeze(1).sum()\n",
        "    # state_action_values = state_action_values.sum()\n",
        "    # --------------\n",
        "    # 4. 결합 가중치 수정\n",
        "    # 4.1 손실함수를 계산(smooth_l1_loss는 Huber 함수)\n",
        "    #   expected_state_action_values는 사이즈가 [mini batch]이므로\n",
        "    #   unsqueeze를 통해 [mini-batch * 1]로 만들어 준다\n",
        "    # Compute Huber loss\n",
        "    loss = F.smooth_l1_loss(state_action_values, expected_state_action_values.unsqueeze(1))\n",
        "    \n",
        "    # Optimize the model\n",
        "    # 4.2 결합 가중치 수정(update)\n",
        "    optimizer.zero_grad()\n",
        "    loss.backward()\n",
        "    for param in policy_net.parameters():\n",
        "        param.grad.data.clamp_(-1, 1)\n",
        "    optimizer.step()\n",
        "\n",
        "def env_intial_state():\n",
        "    return np.repeat(0, 2*T)\n",
        "\n",
        "def env_step(t, state, action):\n",
        "    next_state = np.repeat(0, len(state))\n",
        "    next_state[0] = price_grid[action]\n",
        "    next_state[1:T] = state[0:T-1]\n",
        "    next_state[T+t] = 1\n",
        "    # print(\"next_state\",next_state)\n",
        "    # reward = profit_response_dqn(next_state[0], next_state[1], t)\n",
        "    if t != 0:\n",
        "        reward = profit_response_dqn(next_state[0], next_state[1], t)\n",
        "    else:\n",
        "        reward = profit_response_dqn(p_minus, next_state[0], t)\n",
        "    return next_state, reward\n",
        "\n",
        "def to_tensor(x):\n",
        "    return torch.from_numpy(np.array(x).astype(np.float32))\n",
        "\n",
        "def to_tensor_long(x):\n",
        "    return torch.tensor([[x]], device=device, dtype=torch.long)\n",
        "\n",
        "policy_net = PolicyNetworkDQN(2*T, len(price_grid)).to(device)\n",
        "target_net = PolicyNetworkDQN(2*T, len(price_grid)).to(device)\n",
        "optimizer = optim.AdamW(policy_net.parameters(), lr = 0.005)\n",
        "policy = AnnealedEpsGreedyPolicy()\n",
        "memory = ReplayMemory(10000)\n",
        "\n",
        "target_net.load_state_dict(policy_net.state_dict())\n",
        "target_net.eval()\n",
        "\n",
        "num_episodes = 10000\n",
        "return_trace = []\n",
        "p_trace = [] # price schedules used in each episode\n",
        "for i_episode in range(num_episodes):\n",
        "    state = env_intial_state()\n",
        "    reward_trace = []\n",
        "    p = []\n",
        "    for t in range(T):\n",
        "        # Select and perform an action\n",
        "        with torch.no_grad():\n",
        "            q_values = policy_net(to_tensor(state))\n",
        "        action = policy.select_action(q_values.detach().numpy())\n",
        "\n",
        "        next_state, reward = env_step(t, state, action)\n",
        "\n",
        "        # Store the transition in memory\n",
        "        memory.push(to_tensor(state), \n",
        "                    to_tensor_long(action), \n",
        "                    to_tensor(next_state) if t != T - 1 else None, \n",
        "                    to_tensor([reward]))\n",
        "\n",
        "        # Move to the next state\n",
        "        state = next_state\n",
        "\n",
        "        # Perform one step of the optimization (on the target network)\n",
        "        update_model(memory, policy_net, target_net)\n",
        "\n",
        "        reward_trace.append(reward)\n",
        "        p.append(price_grid[action])\n",
        "\n",
        "    return_trace.append(sum(reward_trace))\n",
        "    p_trace.append(p)\n",
        "\n",
        "    # Update the target network, copying all weights and biases in DQN\n",
        "    if i_episode % TARGET_UPDATE == 0:\n",
        "        target_net.load_state_dict(policy_net.state_dict())\n",
        "\n",
        "        clear_output(wait = True)\n",
        "        print(f'Episode {i_episode} of {num_episodes} ({i_episode/num_episodes*100:.2f}%)')\n",
        "\n",
        "fig = plt.figure(figsize=(16, 5))\n",
        "plot_return_trace(return_trace)\n",
        "plot_price_schedules(p_trace, 5, 1, fig.number)\n",
        "\n",
        "count = 0\n",
        "\n",
        "list_profit = []\n",
        "for s in p_trace:\n",
        "    list_profit.append(profit_response(s))\n",
        "print(max(list_profit))\n",
        "print(p_trace[list_profit.index(max(list_profit))])\n",
        "print(profit_response_result(p_trace[list_profit.index(max(list_profit))],count))\n",
        "\n",
        "\n",
        "\n",
        "for profit in sorted(profit_response(s, count) for s in p_trace)[-10:]:\n",
        "    print(f'Best profit results: {profit}')\n",
        "\n",
        "print(result_demand)\n",
        "\n"
      ],
      "execution_count": null,
      "outputs": []
    },
    {
      "cell_type": "code",
      "metadata": {
        "colab": {
          "base_uri": "https://localhost:8080/",
          "height": 353
        },
        "id": "NYlVpkBr_Ine",
        "outputId": "21ce9add-a4df-440d-e398-623ce440b2da"
      },
      "source": [
        "result_demand = result_demand[1:]\n",
        "print(p_trace[list_profit.index(max(list_profit))])\n",
        "\n",
        "\n",
        "fig = plt.figure(figsize=(10, 5))\n",
        "plt.plot(q_0, label=\"prediction_demand\", color = 'mediumblue')\n",
        "plt.plot(result_demand, label=\"dynamic_pricing_demand\", color = 'crimson')\n",
        "plt.legend()\n",
        "plt.show"
      ],
      "execution_count": null,
      "outputs": [
        {
          "output_type": "stream",
          "name": "stdout",
          "text": [
            "[2500, 2500, 2400, 2100, 2500, 2400, 2100]\n"
          ]
        },
        {
          "output_type": "execute_result",
          "data": {
            "text/plain": [
              "<function matplotlib.pyplot.show>"
            ]
          },
          "metadata": {},
          "execution_count": 24
        },
        {
          "output_type": "display_data",
          "data": {
            "image/png": "[encoded data removed]",
            "text/plain": [
              "<Figure size 720x360 with 1 Axes>"
            ]
          },
          "metadata": {}
        }
      ]
    },
    {
      "cell_type": "code",
      "metadata": {
        "colab": {
          "base_uri": "https://localhost:8080/",
          "height": 36
        },
        "id": "y_yXdRjkPYIt",
        "outputId": "8e5b16ce-30d0-4414-8820-7f8102e52d79"
      },
      "source": [
        "# Render and save the animation of the simulation process\n",
        "# !apt install imagemagick\n",
        "\n",
        "plt.ioff()\n",
        "fig = plt.figure(figsize=(16, 5))\n",
        "def animate(t):\n",
        "    fig.clear()\n",
        "    plot_price_schedules(p_trace[0:t], 5, 1, fig.number)\n",
        "\n",
        "ani = matplotlib.animation.FuncAnimation(fig, animate, frames=range(10, 1000, 10), interval=50, blit=False, repeat_delay=500)\n",
        "# ani.save('sim.gif', dpi=80, writer='imagemagick', fps=20)\n",
        "rc('animation', html='jshtml')"
      ],
      "execution_count": null,
      "outputs": [
        {
          "output_type": "display_data",
          "data": {
            "text/plain": [
              "<Figure size 1152x360 with 0 Axes>"
            ]
          },
          "metadata": {}
        }
      ]
    },
    {
      "cell_type": "code",
      "metadata": {
        "colab": {
          "base_uri": "https://localhost:8080/",
          "height": 379
        },
        "id": "zXhLg4q3PX8h",
        "outputId": "e1e68282-c92f-4383-de70-c0b344ab27a5"
      },
      "source": [
        "# Visualize Q values for a given state\n",
        "sample_state = [2600.,   0.,   0.,   0.,   0.,   0.,   0.,   \\\n",
        "                1.,     0.,   0.,   0.,   0.,   0.,   0.,  ]\n",
        "Q_s = policy_net(to_tensor(sample_state))\n",
        "a_opt = Q_s.max(0)[1].detach()\n",
        "print(f'Optimal price action {price_grid[a_opt]}')\n",
        "\n",
        "plt.figure(figsize=(16, 5))\n",
        "plt.xlabel(\"Price action ($)\")\n",
        "plt.ylabel(\"Q ($)\")\n",
        "plt.bar(price_grid, Q_s.detach().numpy(), color='crimson',  width= 30, alpha=0.8)"
      ],
      "execution_count": null,
      "outputs": [
        {
          "output_type": "stream",
          "name": "stdout",
          "text": [
            "Optimal price action 2500\n"
          ]
        },
        {
          "output_type": "execute_result",
          "data": {
            "text/plain": [
              "<BarContainer object of 11 artists>"
            ]
          },
          "metadata": {},
          "execution_count": 26
        },
        {
          "output_type": "display_data",
          "data": {
            "image/png": "[encoded data removed]",
            "text/plain": [
              "<Figure size 1152x360 with 1 Axes>"
            ]
          },
          "metadata": {}
        }
      ]
    },
    {
      "cell_type": "code",
      "metadata": {
        "colab": {
          "base_uri": "https://localhost:8080/"
        },
        "id": "KCNP2wYhPisT",
        "outputId": "6ff66d1a-ecae-48f3-e2b8-911071273740"
      },
      "source": [
        "# Debugging Q-values computations\n",
        "\n",
        "transitions = memory.sample(10)\n",
        "batch = Transition(*zip(*transitions))\n",
        "\n",
        "non_final_mask = torch.tensor(tuple(map(lambda s: s is not None, batch.next_state)), device=device, dtype=torch.bool)\n",
        "non_final_next_states = torch.stack([s for s in batch.next_state if s is not None])\n",
        "\n",
        "state_batch = torch.stack(batch.state)\n",
        "action_batch = torch.cat(batch.action)\n",
        "reward_batch = torch.stack(batch.reward)\n",
        "\n",
        "state_action_values = policy_net(state_batch).gather(1, action_batch)\n",
        "\n",
        "next_state_values = torch.zeros(len(transitions), device=device)\n",
        "next_state_values[non_final_mask] = target_net(non_final_next_states).max(1)[0].detach()\n",
        "\n",
        "expected_state_action_values = (next_state_values * GAMMA) + reward_batch[:, 0]\n",
        "\n",
        "q_trace = []\n",
        "for t in range(len(transitions)):\n",
        "    print(f\"Q_(s,a)[ {expected_state_action_values[t]} ] = r [ {reward_batch[t].item()} ] + g*Q_(s+1)[ {next_state_values[t]} ]  <> Q_(s,a)[ {state_action_values[t].item()} ]\")\n",
        "    q_trace.append([f\"Sample {t}\", state_action_values[t].item(), [reward_batch[t].item(), next_state_values[t]]])"
      ],
      "execution_count": null,
      "outputs": [
        {
          "output_type": "stream",
          "name": "stdout",
          "text": [
            "Q_(s,a)[ 159461792.0 ] = r [ 21489000.0 ] + g*Q_(s+1)[ 137972784.0 ]  <> Q_(s,a)[ 159459296.0 ]\n",
            "Q_(s,a)[ 136491712.0 ] = r [ 34222500.0 ] + g*Q_(s+1)[ 102269208.0 ]  <> Q_(s,a)[ 138409696.0 ]\n",
            "Q_(s,a)[ 159461792.0 ] = r [ 21489000.0 ] + g*Q_(s+1)[ 137972784.0 ]  <> Q_(s,a)[ 159459296.0 ]\n",
            "Q_(s,a)[ 104052200.0 ] = r [ 28537222.0 ] + g*Q_(s+1)[ 75514976.0 ]  <> Q_(s,a)[ 102568096.0 ]\n",
            "Q_(s,a)[ 159461792.0 ] = r [ 21489000.0 ] + g*Q_(s+1)[ 137972784.0 ]  <> Q_(s,a)[ 159459296.0 ]\n",
            "Q_(s,a)[ 75726112.0 ] = r [ 14625600.0 ] + g*Q_(s+1)[ 61100508.0 ]  <> Q_(s,a)[ 73430848.0 ]\n",
            "Q_(s,a)[ 99633848.0 ] = r [ 24229400.0 ] + g*Q_(s+1)[ 75404448.0 ]  <> Q_(s,a)[ 100137632.0 ]\n",
            "Q_(s,a)[ 77343744.0 ] = r [ 17051880.0 ] + g*Q_(s+1)[ 60291860.0 ]  <> Q_(s,a)[ 75012880.0 ]\n",
            "Q_(s,a)[ 4203100.0 ] = r [ 4203100.0 ] + g*Q_(s+1)[ 0.0 ]  <> Q_(s,a)[ 15914938.0 ]\n",
            "Q_(s,a)[ 12013500.0 ] = r [ 12013500.0 ] + g*Q_(s+1)[ 0.0 ]  <> Q_(s,a)[ 14036368.0 ]\n"
          ]
        }
      ]
    },
    {
      "cell_type": "code",
      "metadata": {
        "colab": {
          "base_uri": "https://localhost:8080/",
          "height": 659
        },
        "id": "lX8W-K9PPirB",
        "outputId": "1bec249a-5f11-4d64-c8e9-ffce289410df"
      },
      "source": [
        "# Visualization of the debugging infomation for Q-values \n",
        "\n",
        "palette = sns.light_palette(\"crimson\", 3, reverse=False)\n",
        "bullet_graph(np.array(q_trace),\n",
        "            labels=[\"r\", \"max_a' Q(s', a')\"], bar_label=\"Q(s, a)\", size=(20, 10),\n",
        "            axis_label=\"Q-value ($)\", label_color=\"black\",\n",
        "            bar_color=\"#252525\", palette=palette)"
      ],
      "execution_count": null,
      "outputs": [
        {
          "output_type": "stream",
          "name": "stderr",
          "text": [
            "/usr/local/lib/python3.7/dist-packages/ipykernel_launcher.py:4: VisibleDeprecationWarning: Creating an ndarray from ragged nested sequences (which is a list-or-tuple of lists-or-tuples-or ndarrays with different lengths or shapes) is deprecated. If you meant to do this, you must specify 'dtype=object' when creating the ndarray\n",
            "  after removing the cwd from sys.path.\n"
          ]
        },
        {
          "output_type": "display_data",
          "data": {
            "image/png": "[encoded data removed]",
            "text/plain": [
              "<Figure size 1440x720 with 10 Axes>"
            ]
          },
          "metadata": {}
        }
      ]
    },
    {
      "cell_type": "code",
      "metadata": {
        "id": "jrAD2Jt9Pio2"
      },
      "source": [
        "# Playing several episods and recording Q-values with the corresponding actual retunrs\n",
        "\n",
        "num_episodes = 100\n",
        "return_trace = []\n",
        "q_values_rewards_trace = np.zeros((num_episodes, T, 2, ))\n",
        "for i_episode in range(num_episodes):\n",
        "    state = env_intial_state()\n",
        "    for t in range(T):\n",
        "        # Select and perform an action\n",
        "        with torch.no_grad():\n",
        "            q_values = policy_net(to_tensor(state)).detach().numpy()\n",
        "        action = policy.select_action(q_values)\n",
        "\n",
        "        next_state, reward = env_step(t, state, action)\n",
        "\n",
        "        # Move to the next state\n",
        "        state = next_state\n",
        "\n",
        "        q_values_rewards_trace[i_episode][t][0] = q_values[action]\n",
        "        for tau in range(t):\n",
        "            q_values_rewards_trace[i_episode][tau][1] += reward * (GAMMA ** (t - tau))"
      ],
      "execution_count": null,
      "outputs": []
    },
    {
      "cell_type": "code",
      "metadata": {
        "colab": {
          "base_uri": "https://localhost:8080/",
          "height": 729
        },
        "id": "QDAVjmu8Pimj",
        "outputId": "eeab3ba8-9db7-4973-a96a-36bff1082e1f"
      },
      "source": [
        "# Visualizing the distribution of Q-value vs actual returns \n",
        "\n",
        "values = np.reshape(q_values_rewards_trace, (num_episodes * T, 2, ))\n",
        "\n",
        "df = pd.DataFrame(data=values, columns=['Q-value', 'Return'])\n",
        "g = sns.jointplot(x=\"Q-value\", y=\"Return\", data=df, kind=\"reg\", color=\"crimson\", height=10)\n",
        "g.plot_joint(plt.scatter, c=\"k\", s=30, linewidth=1, marker=\"+\", alpha=0.4)\n",
        "g.ax_joint.collections[0].set_alpha(0)"
      ],
      "execution_count": null,
      "outputs": [
        {
          "output_type": "display_data",
          "data": {
            "image/png": "[encoded data removed]",
            "text/plain": [
              "<Figure size 720x720 with 3 Axes>"
            ]
          },
          "metadata": {}
        }
      ]
    },
    {
      "cell_type": "code",
      "metadata": {
        "id": "b36WQAb3Ic9n"
      },
      "source": [
        ""
      ],
      "execution_count": null,
      "outputs": []
    }
  ]
}